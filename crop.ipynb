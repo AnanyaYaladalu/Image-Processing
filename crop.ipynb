{
 "cells": [
  {
   "cell_type": "code",
   "execution_count": 5,
   "id": "3171e46c",
   "metadata": {},
   "outputs": [],
   "source": [
    "from PIL import Image\n",
    "img=Image.open('a.jpg')\n",
    "width,height=img.size\n",
    "left=5\n",
    "top=height/4\n",
    "right=164\n",
    "bottom=3*height/4\n",
    "\n",
    "img1=img.crop((left,top,right,bottom))\n",
    "img1.show()"
   ]
  },
  {
   "cell_type": "code",
   "execution_count": 7,
   "id": "aeacc08b",
   "metadata": {},
   "outputs": [],
   "source": [
    "from PIL import Image\n",
    "img=Image.open('a.jpg')\n",
    "img.show()\n",
    "cropped = img.crop((1,2,300,300))\n",
    "cropped.show()\n",
    "cropped.save('cropped.jpg')"
   ]
  },
  {
   "cell_type": "code",
   "execution_count": null,
   "id": "21f84a46",
   "metadata": {},
   "outputs": [],
   "source": []
  }
 ],
 "metadata": {
  "kernelspec": {
   "display_name": "Python 3 (ipykernel)",
   "language": "python",
   "name": "python3"
  },
  "language_info": {
   "codemirror_mode": {
    "name": "ipython",
    "version": 3
   },
   "file_extension": ".py",
   "mimetype": "text/x-python",
   "name": "python",
   "nbconvert_exporter": "python",
   "pygments_lexer": "ipython3",
   "version": "3.9.7"
  }
 },
 "nbformat": 4,
 "nbformat_minor": 5
}
