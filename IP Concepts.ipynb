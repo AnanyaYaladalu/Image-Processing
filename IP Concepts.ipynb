{
 "cells": [
  {
   "cell_type": "code",
   "execution_count": 2,
   "id": "b2837083",
   "metadata": {},
   "outputs": [
    {
     "name": "stdout",
     "output_type": "stream",
     "text": [
      "<class 'numpy.ndarray'>\n",
      "(737280,)\n",
      "(1024, 720)\n",
      "[[  0   1   2 ... 205 206 207]\n",
      " [208 209 210 ... 157 158 159]\n",
      " [160 161 162 ... 109 110 111]\n",
      " ...\n",
      " [144 145 146 ...  93  94  95]\n",
      " [ 96  97  98 ...  45  46  47]\n",
      " [ 48  49  50 ... 253 254 255]]\n"
     ]
    }
   ],
   "source": [
    "import numpy as np\n",
    "from PIL import Image as im\n",
    "  \n",
    "# define a main function\n",
    "def main():\n",
    "\n",
    "   \n",
    "    array = np.arange(0, 737280, 1, np.uint8)\n",
    "\n",
    "    print(type(array))\n",
    "\n",
    "    print(array.shape)\n",
    "      \n",
    "   \n",
    "    array = np.reshape(array, (1024, 720))\n",
    "      \n",
    "    # show the shape of the array\n",
    "    print(array.shape)\n",
    "  \n",
    "    # show the array\n",
    "    print(array)\n",
    "      \n",
    "    # creating image object of\n",
    "    # above array\n",
    "    data = im.fromarray(array)\n",
    "\n",
    "    data.save('gfg_dummy_pic.png')\n",
    "  \n",
    "# driver code\n",
    "if __name__ == \"__main__\":\n",
    "\n",
    "  main()"
   ]
  },
  {
   "cell_type": "code",
   "execution_count": 3,
   "id": "59db7a93",
   "metadata": {},
   "outputs": [
    {
     "name": "stdout",
     "output_type": "stream",
     "text": [
      " The Image is saved successfully\n"
     ]
    }
   ],
   "source": [
    "from PIL import Image\n",
    "import numpy as np\n",
    "# Creating the 144 X 144 NumPy Array with random values\n",
    "arr = np.random.randint(255, size=(144, 144), dtype=np.uint8)\n",
    "# Converting the numpy array into image\n",
    "img  = Image.fromarray(arr)\n",
    "# Saving the image\n",
    "img.save(\"Image_from_array.png\")\n",
    "print(\" The Image is saved successfully\")\n",
    "img.show()"
   ]
  },
  {
   "cell_type": "code",
   "execution_count": 5,
   "id": "87ed90fd",
   "metadata": {},
   "outputs": [
    {
     "data": {
      "text/plain": [
       "'C:\\\\Users\\\\User\\\\Image processing'"
      ]
     },
     "execution_count": 5,
     "metadata": {},
     "output_type": "execute_result"
    }
   ],
   "source": [
    "from PIL import Image\n",
    "import os\n",
    "os.getcwd()"
   ]
  },
  {
   "cell_type": "code",
   "execution_count": 6,
   "id": "8a4a32d2",
   "metadata": {},
   "outputs": [
    {
     "data": {
      "text/plain": [
       "['.ipynb_checkpoints',\n",
       " '1.jpg',\n",
       " '10.jpg',\n",
       " '11.png',\n",
       " '17.jpg',\n",
       " '1img.jpg',\n",
       " '2.jpg',\n",
       " '20.jfif',\n",
       " '2img.jpg',\n",
       " 'a.jpg',\n",
       " 'Adding one to another.ipynb',\n",
       " 'b.jpg',\n",
       " 'back.jpg',\n",
       " 'Basic statistics.ipynb',\n",
       " 'bird.jpg',\n",
       " 'bird.png',\n",
       " 'Bitwise.ipynb',\n",
       " 'black.jfif',\n",
       " 'Blending.ipynb',\n",
       " 'Canvas.ipynb',\n",
       " 'cat1.png',\n",
       " 'cat_damaged.png',\n",
       " 'cat_inpainted.png',\n",
       " 'cat_mask.png',\n",
       " 'Contour lines.ipynb',\n",
       " 'Contours.ipynb',\n",
       " 'converted.png',\n",
       " 'converting and mode.ipynb',\n",
       " 'crop.ipynb',\n",
       " 'crop.png',\n",
       " 'cropped.jpg',\n",
       " 'cropped_image.jpg',\n",
       " 'd1.jpg',\n",
       " 'd2.jpg',\n",
       " 'damaged.jpg',\n",
       " 'dice.png',\n",
       " 'Difference in images.ipynb',\n",
       " 'dog.jfif',\n",
       " 'drawing and text.ipynb',\n",
       " 'earth.jfif',\n",
       " 'face.jpg',\n",
       " 'flight.jpg',\n",
       " 'flr.jpg',\n",
       " 'fore.png',\n",
       " 'gfg_dummy_pic.png',\n",
       " 'Image invert.ipynb',\n",
       " 'Image manipulation.ipynb',\n",
       " 'Image Restoration.ipynb',\n",
       " 'Image_from_array.png',\n",
       " 'imgf.jpg',\n",
       " 'imgface.jpg',\n",
       " 'imgffc.png',\n",
       " 'Intensity transformation.ipynb',\n",
       " 'interpolation.ipynb',\n",
       " 'kit.jpg',\n",
       " 'leaf.png',\n",
       " 'lg.png',\n",
       " 'List and display images.ipynb',\n",
       " 'log.jpg',\n",
       " 'logo.png',\n",
       " 'logo1.png',\n",
       " 'mask.ipynb',\n",
       " 'Matrix to Image.ipynb',\n",
       " 'montage.ipynb',\n",
       " 'montage.png',\n",
       " 'my.png',\n",
       " 'n.png',\n",
       " 'nature.jpg',\n",
       " 'negative.ipynb',\n",
       " 'new.jpg',\n",
       " 'noise blur.ipynb',\n",
       " 'Noise.ipynb',\n",
       " 'original_image.jpg',\n",
       " 'plotting hist.ipynb',\n",
       " 'Quantizing.ipynb',\n",
       " 'Segmentation.ipynb',\n",
       " 'sharpen.jpg',\n",
       " 'sky1.jpg',\n",
       " 'Slicing.ipynb',\n",
       " 'slicing.jpg',\n",
       " 'smple1.ipynb',\n",
       " 'taj.jpg',\n",
       " 'text.jpg',\n",
       " 'text_removed_image.jpg',\n",
       " 'Untitled.ipynb',\n",
       " 'Untitled1.ipynb',\n",
       " 'UpDownSample.ipynb',\n",
       " 'watermark.jpg']"
      ]
     },
     "execution_count": 6,
     "metadata": {},
     "output_type": "execute_result"
    }
   ],
   "source": [
    "os.listdir()"
   ]
  },
  {
   "cell_type": "code",
   "execution_count": 7,
   "id": "39f7febd",
   "metadata": {},
   "outputs": [
    {
     "name": "stdout",
     "output_type": "stream",
     "text": [
      "1 & .jpg\n",
      "10 & .jpg\n",
      "17 & .jpg\n",
      "1img & .jpg\n",
      "2 & .jpg\n",
      "2img & .jpg\n",
      "a & .jpg\n",
      "b & .jpg\n",
      "back & .jpg\n",
      "bird & .jpg\n",
      "cropped & .jpg\n",
      "cropped_image & .jpg\n",
      "d1 & .jpg\n",
      "d2 & .jpg\n",
      "damaged & .jpg\n",
      "face & .jpg\n",
      "flight & .jpg\n",
      "flr & .jpg\n",
      "imgf & .jpg\n",
      "imgface & .jpg\n",
      "kit & .jpg\n",
      "log & .jpg\n",
      "nature & .jpg\n",
      "new & .jpg\n",
      "original_image & .jpg\n",
      "sharpen & .jpg\n",
      "sky1 & .jpg\n",
      "slicing & .jpg\n",
      "taj & .jpg\n",
      "text & .jpg\n",
      "text_removed_image & .jpg\n",
      "watermark & .jpg\n"
     ]
    }
   ],
   "source": [
    "for f in os.listdir(\".\"):\n",
    "    if f.endswith(\".jpg\"):\n",
    "        i = Image.open(f)\n",
    "        fn, fext = os.path.splitext(f)\n",
    "        print(fn, \"&\", fext)"
   ]
  },
  {
   "cell_type": "code",
   "execution_count": 8,
   "id": "96c6928d",
   "metadata": {},
   "outputs": [
    {
     "name": "stdout",
     "output_type": "stream",
     "text": [
      "1.jpg\n",
      "10.jpg\n",
      "17.jpg\n",
      "1img.jpg\n",
      "2.jpg\n",
      "2img.jpg\n",
      "a.jpg\n",
      "b.jpg\n",
      "back.jpg\n",
      "bird.jpg\n",
      "cropped.jpg\n",
      "cropped_image.jpg\n",
      "d1.jpg\n",
      "d2.jpg\n",
      "damaged.jpg\n",
      "face.jpg\n",
      "flight.jpg\n",
      "flr.jpg\n",
      "imgf.jpg\n",
      "imgface.jpg\n",
      "kit.jpg\n",
      "log.jpg\n",
      "nature.jpg\n",
      "new.jpg\n",
      "original_image.jpg\n",
      "sharpen.jpg\n",
      "sky1.jpg\n",
      "slicing.jpg\n",
      "taj.jpg\n",
      "text.jpg\n",
      "text_removed_image.jpg\n",
      "watermark.jpg\n"
     ]
    }
   ],
   "source": [
    "for f in os.listdir(\".\"):\n",
    "    if f.endswith(\".jpg\"):\n",
    "        print(f)"
   ]
  },
  {
   "cell_type": "code",
   "execution_count": 11,
   "id": "31779d60",
   "metadata": {},
   "outputs": [],
   "source": [
    "# Creating new Directory using OS library\n",
    "os.mkdir('NewExtnsn')"
   ]
  },
  {
   "cell_type": "code",
   "execution_count": 12,
   "id": "cb3958db",
   "metadata": {},
   "outputs": [],
   "source": [
    "for f in os.listdir(\".\"):\n",
    "    if f.endswith(\".jpg\"):\n",
    "        i = Image.open(f)\n",
    "        fn, fext = os.path.splitext(f)\n",
    "        i.save(\"NewExtnsn/{}.pdf\".format(fn))"
   ]
  },
  {
   "cell_type": "code",
   "execution_count": 13,
   "id": "6de5db2d",
   "metadata": {},
   "outputs": [],
   "source": [
    "# Creating new multiple Directories using OS library\n",
    "os.makedirs('resize//small')\n",
    "os.makedirs('resize//tiny')\n",
    "# Note: If you already have a directory with this name, you will get error.\n",
    "size_small = (600,600) # small images of 600 X 600 pixels\n",
    "size_tiny = (200,200)  # tiny images of 200 X 200 pixels\n",
    "for f in os.listdir(\".\"):\n",
    "    if f.endswith(\".jpg\"):\n",
    "        i = Image.open(f)\n",
    "        fn, fext = os.path.splitext(f)\n",
    "        i.thumbnail(size_small)\n",
    "        i.save(\"resize/small/{}_small{}\".format(fn, fext))\n",
    "        i.thumbnail(size_tiny)\n",
    "        i.save(\"resize/tiny/{}_tiny{}\".format(fn, fext))"
   ]
  },
  {
   "cell_type": "code",
   "execution_count": 14,
   "id": "a478199f",
   "metadata": {},
   "outputs": [],
   "source": [
    "# Creating new Directory using OS library\n",
    "os.mkdir('rotate')\n",
    "for f in os.listdir(\".\"):\n",
    "    if f.endswith(\".jpg\"):\n",
    "        i = Image.open(f)\n",
    "        fn, fext = os.path.splitext(f)\n",
    "        im = i.rotate(90)\n",
    "        im.save(\"rotate/{}_rot.{}\".format(fn, fext))"
   ]
  },
  {
   "cell_type": "code",
   "execution_count": null,
   "id": "1d084479",
   "metadata": {},
   "outputs": [],
   "source": []
  }
 ],
 "metadata": {
  "kernelspec": {
   "display_name": "Python 3 (ipykernel)",
   "language": "python",
   "name": "python3"
  },
  "language_info": {
   "codemirror_mode": {
    "name": "ipython",
    "version": 3
   },
   "file_extension": ".py",
   "mimetype": "text/x-python",
   "name": "python",
   "nbconvert_exporter": "python",
   "pygments_lexer": "ipython3",
   "version": "3.9.7"
  }
 },
 "nbformat": 4,
 "nbformat_minor": 5
}
