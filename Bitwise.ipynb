{
 "cells": [
  {
   "cell_type": "code",
   "execution_count": 3,
   "id": "e1d5624b",
   "metadata": {},
   "outputs": [],
   "source": [
    "import cv2\n",
    "img1=cv2.imread(\"1.jpg\")\n",
    "img2=cv2.imread(\"2.jpg\")\n",
    "\n",
    "and_img=cv2.bitwise_and(img1,img2)\n",
    "or_img=cv2.bitwise_or(img1,img2)\n",
    "not_img=cv2.bitwise_not(img1,img2)\n",
    "\n",
    "cv2.imshow('Bitwise AND', and_img)\n",
    "cv2.imshow('Bitwise OR', or_img)\n",
    "cv2.imshow('Bitwise NOT', not_img)\n",
    "\n",
    "cv2.waitKey(0)\n",
    "cv2.destroyAllWindows()"
   ]
  },
  {
   "cell_type": "code",
   "execution_count": null,
   "id": "e44b107f",
   "metadata": {},
   "outputs": [],
   "source": []
  },
  {
   "cell_type": "code",
   "execution_count": null,
   "id": "92c22c80",
   "metadata": {},
   "outputs": [],
   "source": []
  }
 ],
 "metadata": {
  "kernelspec": {
   "display_name": "Python 3 (ipykernel)",
   "language": "python",
   "name": "python3"
  },
  "language_info": {
   "codemirror_mode": {
    "name": "ipython",
    "version": 3
   },
   "file_extension": ".py",
   "mimetype": "text/x-python",
   "name": "python",
   "nbconvert_exporter": "python",
   "pygments_lexer": "ipython3",
   "version": "3.9.7"
  }
 },
 "nbformat": 4,
 "nbformat_minor": 5
}
