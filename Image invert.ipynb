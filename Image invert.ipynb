{
 "cells": [
  {
   "cell_type": "code",
   "execution_count": 2,
   "id": "28dbd686",
   "metadata": {},
   "outputs": [
    {
     "name": "stdout",
     "output_type": "stream",
     "text": [
      "C:/Users/User/Desktop/py\\invert_10.png\n",
      "C:/Users/User/Desktop/py\\invert_20.png\n",
      "C:/Users/User/Desktop/py\\invert_30.png\n",
      "C:/Users/User/Desktop/py\\invert_40.png\n",
      "C:/Users/User/Desktop/py\\invert_50.png\n",
      "C:/Users/User/Desktop/py\\invert_flwr.pdf\n",
      "C:/Users/User/Desktop/py\\invert_j10.jpg\n",
      "C:/Users/User/Desktop/py\\invert_j20.jpg\n",
      "C:/Users/User/Desktop/py\\invert_j30.jpg\n",
      "C:/Users/User/Desktop/py\\invert_rose.gif\n"
     ]
    }
   ],
   "source": [
    "from PIL import Image\n",
    "from PIL import ImageFilter\n",
    "import os\n",
    "\n",
    "def main():    \n",
    "    inPath =\"C:/Users/User/Desktop/python\"\n",
    "    outPath =\"C:/Users/User/Desktop/py\"\n",
    "    for imagePath in os.listdir(inPath):\n",
    "        inputPath = os.path.join(inPath, imagePath)\n",
    "        img = Image.open(inputPath)\n",
    "        fullOutPath = os.path.join(outPath, 'invert_'+imagePath)\n",
    "        img.rotate(90).save(fullOutPath)\n",
    "        print(fullOutPath)\n",
    "\n",
    "if __name__ == '__main__':\n",
    "    main()"
   ]
  },
  {
   "cell_type": "code",
   "execution_count": null,
   "id": "b7b19dd8",
   "metadata": {},
   "outputs": [],
   "source": []
  }
 ],
 "metadata": {
  "kernelspec": {
   "display_name": "Python 3 (ipykernel)",
   "language": "python",
   "name": "python3"
  },
  "language_info": {
   "codemirror_mode": {
    "name": "ipython",
    "version": 3
   },
   "file_extension": ".py",
   "mimetype": "text/x-python",
   "name": "python",
   "nbconvert_exporter": "python",
   "pygments_lexer": "ipython3",
   "version": "3.9.7"
  }
 },
 "nbformat": 4,
 "nbformat_minor": 5
}
