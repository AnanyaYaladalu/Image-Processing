{
 "cells": [
  {
   "cell_type": "code",
   "execution_count": 2,
   "id": "7b4df21b",
   "metadata": {},
   "outputs": [
    {
     "data": {
      "text/plain": [
       "True"
      ]
     },
     "execution_count": 2,
     "metadata": {},
     "output_type": "execute_result"
    }
   ],
   "source": [
    "#Restore damaged image\n",
    "\n",
    "import numpy as np\n",
    "import cv2\n",
    "\n",
    "img = cv2.imread('cat_damaged.png')\n",
    "\n",
    "mask = cv2.imread('cat_mask.png', 0)\n",
    "\n",
    "dst = cv2.inpaint(img, mask, 3, cv2.INPAINT_NS)\n",
    "\n",
    "cv2.imwrite('cat_inpainted.png', dst)"
   ]
  },
  {
   "cell_type": "code",
   "execution_count": 5,
   "id": "2730d6fe",
   "metadata": {},
   "outputs": [],
   "source": [
    "#Remove objects\n",
    "\n",
    "from PIL import Image\n",
    "import numpy as np\t\n",
    "img = Image.open(r\"b.jpg\").convert('RGB')\n",
    "img_arr = np.array(img)\n",
    "img_arr[100 : 400, 100 : 400] = (0, 0, 0)\n",
    "img = Image.fromarray(img_arr)\n",
    "img.show()"
   ]
  },
  {
   "cell_type": "code",
   "execution_count": 5,
   "id": "8192ecf8",
   "metadata": {},
   "outputs": [
    {
     "name": "stdout",
     "output_type": "stream",
     "text": [
      "(1536, 2048, 3)\n",
      "(1536, 2048, 3)\n"
     ]
    }
   ],
   "source": [
    "#Remove text\n",
    "\n",
    "import numpy as np\n",
    "import cv2 \n",
    "img = cv2.imread('original_image.jpg')\n",
    "\n",
    "print(img.shape)\n",
    "h,w,c =  img.shape\n",
    "\n",
    "txt = cv2.imread(\"cropped_image.jpg\")\n",
    "print(txt.shape)\n",
    "hl,wl,cl  =  txt.shape\n",
    "\n",
    "x1 = int(w/2-wl/2)\n",
    "y1 = int(h/2-hl)\n",
    "x2 = int(w/2+wl/2)\n",
    "y2 =  int(h/2)\n",
    "cv2.rectangle(img, (x1, y1), (x2, y2), (255,0,0), 2)\n",
    "\n",
    "cv2.imwrite(\"my.png\",img)\n",
    "cv2.imshow(\"text\", img)\n",
    "cv2.waitKey(0)\n",
    "cv2.destroyAllWindows()"
   ]
  },
  {
   "cell_type": "code",
   "execution_count": null,
   "id": "d72406a7",
   "metadata": {},
   "outputs": [],
   "source": []
  }
 ],
 "metadata": {
  "kernelspec": {
   "display_name": "Python 3 (ipykernel)",
   "language": "python",
   "name": "python3"
  },
  "language_info": {
   "codemirror_mode": {
    "name": "ipython",
    "version": 3
   },
   "file_extension": ".py",
   "mimetype": "text/x-python",
   "name": "python",
   "nbconvert_exporter": "python",
   "pygments_lexer": "ipython3",
   "version": "3.9.7"
  }
 },
 "nbformat": 4,
 "nbformat_minor": 5
}
