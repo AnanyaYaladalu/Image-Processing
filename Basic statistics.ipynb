{
 "cells": [
  {
   "cell_type": "code",
   "execution_count": 1,
   "id": "abb3d25c",
   "metadata": {},
   "outputs": [
    {
     "name": "stdout",
     "output_type": "stream",
     "text": [
      "[125.906197265625, 156.002748046875, 154.52253125]\n"
     ]
    }
   ],
   "source": [
    "from PIL import Image,ImageStat\n",
    "img=Image.open('b.jpg')\n",
    "stat=ImageStat.Stat(img)\n",
    "print(stat.mean)"
   ]
  },
  {
   "cell_type": "code",
   "execution_count": 2,
   "id": "d1746975",
   "metadata": {},
   "outputs": [
    {
     "name": "stdout",
     "output_type": "stream",
     "text": [
      "[134, 168, 166]\n"
     ]
    }
   ],
   "source": [
    "from PIL import Image,ImageStat\n",
    "img=Image.open('b.jpg')\n",
    "stat=ImageStat.Stat(img)\n",
    "print(stat.median)"
   ]
  },
  {
   "cell_type": "code",
   "execution_count": 3,
   "id": "fb78658e",
   "metadata": {},
   "outputs": [
    {
     "name": "stdout",
     "output_type": "stream",
     "text": [
      "[54.744764303311676, 46.56668205073088, 49.72638187967001]\n"
     ]
    }
   ],
   "source": [
    "from PIL import Image,ImageStat\n",
    "img=Image.open('b.jpg')\n",
    "stat=ImageStat.Stat(img)\n",
    "print(stat.stddev)"
   ]
  },
  {
   "cell_type": "code",
   "execution_count": null,
   "id": "2f481007",
   "metadata": {},
   "outputs": [],
   "source": []
  }
 ],
 "metadata": {
  "kernelspec": {
   "display_name": "Python 3 (ipykernel)",
   "language": "python",
   "name": "python3"
  },
  "language_info": {
   "codemirror_mode": {
    "name": "ipython",
    "version": 3
   },
   "file_extension": ".py",
   "mimetype": "text/x-python",
   "name": "python",
   "nbconvert_exporter": "python",
   "pygments_lexer": "ipython3",
   "version": "3.9.7"
  }
 },
 "nbformat": 4,
 "nbformat_minor": 5
}
