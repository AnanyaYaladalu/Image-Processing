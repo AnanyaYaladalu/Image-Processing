{
 "cells": [
  {
   "cell_type": "code",
   "execution_count": 7,
   "id": "0671fa7c",
   "metadata": {},
   "outputs": [],
   "source": [
    "from PIL import Image, ImageDraw\n",
    "img = Image.open(\"b.jpg\")\n",
    "draw = ImageDraw.Draw(img)\n",
    "\n",
    "txt = \"Image Processing\"\n",
    "draw.text((250, 250), txt)\n",
    "img.save('new.jpg')\n",
    "img.show()"
   ]
  },
  {
   "cell_type": "code",
   "execution_count": 14,
   "id": "a1806652",
   "metadata": {},
   "outputs": [],
   "source": [
    "import numpy as np\n",
    "import cv2\n",
    "\n",
    "img = cv2.imread('a.jpg',cv2.IMREAD_COLOR)\n",
    "\n",
    "cv2.line(img,(0,0),(400,400),(255,255,255),35)\n",
    "\n",
    "cv2.rectangle(img,(50,25),(400,150),(0,0,255),20)\n",
    "\n",
    "cv2.circle(img,(100,63), 55, (0,255,0), -1)\n",
    "\n",
    "cv2.imshow('image',img)\n",
    "cv2.waitKey(0)\n",
    "cv2.destroyAllWindows()"
   ]
  },
  {
   "cell_type": "code",
   "execution_count": null,
   "id": "fa8f5f8a",
   "metadata": {},
   "outputs": [],
   "source": []
  }
 ],
 "metadata": {
  "kernelspec": {
   "display_name": "Python 3 (ipykernel)",
   "language": "python",
   "name": "python3"
  },
  "language_info": {
   "codemirror_mode": {
    "name": "ipython",
    "version": 3
   },
   "file_extension": ".py",
   "mimetype": "text/x-python",
   "name": "python",
   "nbconvert_exporter": "python",
   "pygments_lexer": "ipython3",
   "version": "3.9.7"
  }
 },
 "nbformat": 4,
 "nbformat_minor": 5
}
