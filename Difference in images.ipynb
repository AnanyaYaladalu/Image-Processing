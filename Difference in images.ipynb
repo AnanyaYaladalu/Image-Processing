{
 "cells": [
  {
   "cell_type": "code",
   "execution_count": 5,
   "id": "b6ac9617",
   "metadata": {},
   "outputs": [],
   "source": [
    "from PIL import Image, ImageChops\n",
    "\n",
    "img1 = Image.open(\"1img.jpg\")\n",
    "img2 = Image.open(\"2img.jpg\")\n",
    "\n",
    "diff = ImageChops.difference(img1, img2)\n",
    "diff.show()"
   ]
  },
  {
   "cell_type": "code",
   "execution_count": null,
   "id": "08d91667",
   "metadata": {},
   "outputs": [],
   "source": []
  }
 ],
 "metadata": {
  "kernelspec": {
   "display_name": "Python 3 (ipykernel)",
   "language": "python",
   "name": "python3"
  },
  "language_info": {
   "codemirror_mode": {
    "name": "ipython",
    "version": 3
   },
   "file_extension": ".py",
   "mimetype": "text/x-python",
   "name": "python",
   "nbconvert_exporter": "python",
   "pygments_lexer": "ipython3",
   "version": "3.9.7"
  }
 },
 "nbformat": 4,
 "nbformat_minor": 5
}
