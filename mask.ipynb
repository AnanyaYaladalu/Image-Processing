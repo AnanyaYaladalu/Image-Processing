{
 "cells": [
  {
   "cell_type": "code",
   "execution_count": 24,
   "id": "3a69d859",
   "metadata": {},
   "outputs": [],
   "source": [
    "from PIL import Image,ImageDraw,ImageFilter\n",
    "im1=Image.open('10.jpg')\n",
    "im2=Image.open('a.jpg')\n",
    "mask_im=Image.new(\"L\",im2.size,0)\n",
    "draw=ImageDraw.Draw(mask_im)\n",
    "draw.ellipse((50,150,750,300),fill=250)\n",
    "mask_im_blur=mask_im.filter(ImageFilter.GaussianBlur(10))\n",
    "back_im=im1.copy()\n",
    "back_im.paste(im2,(0,0),mask_im_blur)\n",
    "back_im.show()"
   ]
  },
  {
   "cell_type": "code",
   "execution_count": null,
   "id": "e237d4fa",
   "metadata": {},
   "outputs": [],
   "source": []
  }
 ],
 "metadata": {
  "kernelspec": {
   "display_name": "Python 3 (ipykernel)",
   "language": "python",
   "name": "python3"
  },
  "language_info": {
   "codemirror_mode": {
    "name": "ipython",
    "version": 3
   },
   "file_extension": ".py",
   "mimetype": "text/x-python",
   "name": "python",
   "nbconvert_exporter": "python",
   "pygments_lexer": "ipython3",
   "version": "3.9.7"
  }
 },
 "nbformat": 4,
 "nbformat_minor": 5
}
