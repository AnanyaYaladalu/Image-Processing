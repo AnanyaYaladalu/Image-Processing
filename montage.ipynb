{
 "cells": [
  {
   "cell_type": "code",
   "execution_count": 1,
   "id": "8778071c",
   "metadata": {},
   "outputs": [
    {
     "data": {
      "text/plain": [
       "'montage.png'"
      ]
     },
     "execution_count": 1,
     "metadata": {},
     "output_type": "execute_result"
    }
   ],
   "source": [
    "#Method 2\n",
    "\n",
    "import cv2\n",
    "from PIL import Image\n",
    "from skimage import io\n",
    "\n",
    "IMAGE_WIDTH = 400\n",
    "IMAGE_HEIGHT = 400\n",
    "\n",
    "def create_collage(images):\n",
    "    images = [io.imread(img) for img in images]\n",
    "    images = [cv2.resize(image, (IMAGE_WIDTH, IMAGE_HEIGHT)) for image in images]\n",
    "    if len(images) > 2:\n",
    "        half = len(images) // 2\n",
    "        h1 = cv2.hconcat(images[:half])\n",
    "        h2 = cv2.hconcat(images[half:])\n",
    "        concat_images = cv2.vconcat([h1, h2])\n",
    "    else:\n",
    "        concat_images = cv2.hconcat(images)\n",
    "    image = Image.fromarray(concat_images)\n",
    "\n",
    "    image_name = \"montage.png\"\n",
    "    image = image.convert(\"RGB\")\n",
    "    image.save(f\"{image_name}\")\n",
    "    return image_name\n",
    "images=[\"a.jpg\",\"b.jpg\",\"back.jpg\",\"2.jpg\"]\n",
    "create_collage(images)"
   ]
  },
  {
   "cell_type": "code",
   "execution_count": 2,
   "id": "39dc7e99",
   "metadata": {},
   "outputs": [
    {
     "name": "stdout",
     "output_type": "stream",
     "text": [
      "(500, 1024, 3)\n",
      "(1000, 2048, 3)\n"
     ]
    }
   ],
   "source": [
    "#montage method 1\n",
    "\n",
    "import skimage.io\n",
    "import skimage.util\n",
    "\n",
    "a = skimage.io.imread('b.jpg')\n",
    "print(a.shape)\n",
    "\n",
    "b = a // 2\n",
    "c = a // 3\n",
    "d=a//4\n",
    "m = skimage.util.montage([a, b, c,d], multichannel=True)\n",
    "print(m.shape)\n",
    "\n",
    "skimage.io.imsave('C:/Users/User/Desktop/Images/done.jpg', m)"
   ]
  },
  {
   "cell_type": "code",
   "execution_count": 3,
   "id": "fd69d2bc",
   "metadata": {},
   "outputs": [],
   "source": [
    "import cv2\n",
    "import numpy as np\n",
    "\n",
    "image1=cv2.imread(\"a.jpg\")\n",
    "image2=cv2.imread(\"b.jpg\")\n",
    "image3=cv2.imread(\"1.jpg\")\n",
    "image4=cv2.imread(\"2.jpg\")\n",
    "\n",
    "image1=cv2.resize(image1,(200,200))\n",
    "image2=cv2.resize(image2,(200,200))\n",
    "image3=cv2.resize(image3,(200,200))\n",
    "image4=cv2.resize(image4,(200,200))\n",
    "\n",
    "Horizontal1=np.hstack([image1,image2])\n",
    "Horizontal2=np.hstack([image3,image4])\n",
    "\n",
    "Vertical_attachment=np.vstack([Horizontal1,Horizontal2])\n",
    "\n",
    "cv2.imshow(\"Final Collage\",Vertical_attachment)\n",
    "cv2.waitKey(0)\n",
    "cv2.destroyAllWindows()"
   ]
  },
  {
   "cell_type": "code",
   "execution_count": null,
   "id": "3227ef0d",
   "metadata": {},
   "outputs": [],
   "source": []
  }
 ],
 "metadata": {
  "kernelspec": {
   "display_name": "Python 3 (ipykernel)",
   "language": "python",
   "name": "python3"
  },
  "language_info": {
   "codemirror_mode": {
    "name": "ipython",
    "version": 3
   },
   "file_extension": ".py",
   "mimetype": "text/x-python",
   "name": "python",
   "nbconvert_exporter": "python",
   "pygments_lexer": "ipython3",
   "version": "3.9.7"
  }
 },
 "nbformat": 4,
 "nbformat_minor": 5
}
